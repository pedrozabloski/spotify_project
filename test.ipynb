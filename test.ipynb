{
 "cells": [
  {
   "cell_type": "code",
   "execution_count": 2,
   "metadata": {},
   "outputs": [
    {
     "name": "stdout",
     "output_type": "stream",
     "text": [
      "BQBenWfBYOtpiHNbXfDjWz2U69UebfjNmFwGhRw1Ks2sA1kEtJNr2JImVs3eqjs4MHZ3Mpo3m6U-N4jGNiuIsazQ3j0sU9Mb0a8E6drlO86WAB0tGqI\n"
     ]
    }
   ],
   "source": [
    "from dotenv import load_dotenv\n",
    "import os\n",
    "import base64\n",
    "import json\n",
    "from requests import post, get\n",
    "\n",
    "\n",
    "load_dotenv()\n",
    "\n",
    "client_id = os.getenv(\"CLIENT_ID\")\n",
    "client_secret = os.getenv(\"CLIENT_SECRET\")\n",
    "\n",
    "def get_token():\n",
    "    auth_string = client_id + \":\" + client_secret \n",
    "    auth_bytes = auth_string.encode(\"utf-8\")\n",
    "    auth_base64 = str(base64.b64encode(auth_bytes), \"utf-8\")\n",
    "\n",
    "    url = \"https://accounts.spotify.com/api/token\"\n",
    "    headers = {\n",
    "            \"Authorization\": \"Basic \" + auth_base64,\n",
    "            \"Content-type\" : \"application/x-www-form-urlencoded\"\n",
    "    }\n",
    "    data = {\"grant_type\": \"client_credentials\"}\n",
    "    result = post(url, headers=headers, data=data)\n",
    "    json_result = json.loads(result.content)\n",
    "    token = json_result[\"access_token\"]\n",
    "    return token  \n",
    "\n",
    "token = get_token()\n",
    "print(token)"
   ]
  },
  {
   "cell_type": "code",
   "execution_count": 3,
   "metadata": {},
   "outputs": [
    {
     "name": "stdout",
     "output_type": "stream",
     "text": [
      "{'artists': {'href': 'https://api.spotify.com/v1/search?query=Travis&type=artist&offset=0&limit=1', 'items': [{'external_urls': {'spotify': 'https://open.spotify.com/artist/0Y5tJX1MQlPlqiwlOH1tJY'}, 'followers': {'href': None, 'total': 22719090}, 'genres': ['hip hop', 'rap', 'slap house'], 'href': 'https://api.spotify.com/v1/artists/0Y5tJX1MQlPlqiwlOH1tJY', 'id': '0Y5tJX1MQlPlqiwlOH1tJY', 'images': [{'height': 640, 'url': 'https://i.scdn.co/image/ab6761610000e5ebe707b87e3f65997f6c09bfff', 'width': 640}, {'height': 320, 'url': 'https://i.scdn.co/image/ab67616100005174e707b87e3f65997f6c09bfff', 'width': 320}, {'height': 160, 'url': 'https://i.scdn.co/image/ab6761610000f178e707b87e3f65997f6c09bfff', 'width': 160}], 'name': 'Travis Scott', 'popularity': 89, 'type': 'artist', 'uri': 'spotify:artist:0Y5tJX1MQlPlqiwlOH1tJY'}], 'limit': 1, 'next': 'https://api.spotify.com/v1/search?query=Travis&type=artist&offset=1&limit=1', 'offset': 0, 'previous': None, 'total': 481}}\n"
     ]
    }
   ],
   "source": [
    "\n",
    "def get_auth_header(token):\n",
    "    return {\"Authorization\": \"Bearer \" + token}\n",
    "\n",
    "\n",
    "def search_for_artist(token, artist_name):\n",
    "    url = \"https://api.spotify.com/v1/search\"\n",
    "    headers = get_auth_header(token)\n",
    "    query = f\"?q={artist_name}&type=artist&limit=1\"\n",
    "\n",
    "    query_url = url + query \n",
    "    result = get(query_url, headers=headers)\n",
    "    json_result = json.loads(result.content)\n",
    "    print(json_result)\n",
    "\n",
    "\n",
    "token = get_token()\n",
    "search_for_artist(token,\"Travis\")"
   ]
  },
  {
   "cell_type": "code",
   "execution_count": 11,
   "metadata": {},
   "outputs": [
    {
     "name": "stdout",
     "output_type": "stream",
     "text": [
      "[{'album': {'album_type': 'album', 'artists': [{'external_urls': {'spotify': 'https://open.spotify.com/artist/6olE6TJLqED3rqDCT0FyPh'}, 'href': 'https://api.spotify.com/v1/artists/6olE6TJLqED3rqDCT0FyPh', 'id': '6olE6TJLqED3rqDCT0FyPh', 'name': 'Nirvana', 'type': 'artist', 'uri': 'spotify:artist:6olE6TJLqED3rqDCT0FyPh'}], 'external_urls': {'spotify': 'https://open.spotify.com/album/2guirTSEqLizK7j9i1MTTZ'}, 'href': 'https://api.spotify.com/v1/albums/2guirTSEqLizK7j9i1MTTZ', 'id': '2guirTSEqLizK7j9i1MTTZ', 'images': [{'height': 640, 'url': 'https://i.scdn.co/image/ab67616d0000b273e175a19e530c898d167d39bf', 'width': 640}, {'height': 300, 'url': 'https://i.scdn.co/image/ab67616d00001e02e175a19e530c898d167d39bf', 'width': 300}, {'height': 64, 'url': 'https://i.scdn.co/image/ab67616d00004851e175a19e530c898d167d39bf', 'width': 64}], 'is_playable': True, 'name': 'Nevermind (Remastered)', 'release_date': '1991-09-26', 'release_date_precision': 'day', 'total_tracks': 13, 'type': 'album', 'uri': 'spotify:album:2guirTSEqLizK7j9i1MTTZ'}, 'artists': [{'external_urls': {'spotify': 'https://open.spotify.com/artist/6olE6TJLqED3rqDCT0FyPh'}, 'href': 'https://api.spotify.com/v1/artists/6olE6TJLqED3rqDCT0FyPh', 'id': '6olE6TJLqED3rqDCT0FyPh', 'name': 'Nirvana', 'type': 'artist', 'uri': 'spotify:artist:6olE6TJLqED3rqDCT0FyPh'}], 'disc_number': 1, 'duration_ms': 301920, 'explicit': False, 'external_ids': {'isrc': 'USGF19942501'}, 'external_urls': {'spotify': 'https://open.spotify.com/track/5ghIJDpPoe3CfHMGu71E6T'}, 'href': 'https://api.spotify.com/v1/tracks/5ghIJDpPoe3CfHMGu71E6T', 'id': '5ghIJDpPoe3CfHMGu71E6T', 'is_local': False, 'is_playable': True, 'name': 'Smells Like Teen Spirit', 'popularity': 82, 'preview_url': None, 'track_number': 1, 'type': 'track', 'uri': 'spotify:track:5ghIJDpPoe3CfHMGu71E6T'}, {'album': {'album_type': 'album', 'artists': [{'external_urls': {'spotify': 'https://open.spotify.com/artist/6olE6TJLqED3rqDCT0FyPh'}, 'href': 'https://api.spotify.com/v1/artists/6olE6TJLqED3rqDCT0FyPh', 'id': '6olE6TJLqED3rqDCT0FyPh', 'name': 'Nirvana', 'type': 'artist', 'uri': 'spotify:artist:6olE6TJLqED3rqDCT0FyPh'}], 'external_urls': {'spotify': 'https://open.spotify.com/album/2guirTSEqLizK7j9i1MTTZ'}, 'href': 'https://api.spotify.com/v1/albums/2guirTSEqLizK7j9i1MTTZ', 'id': '2guirTSEqLizK7j9i1MTTZ', 'images': [{'height': 640, 'url': 'https://i.scdn.co/image/ab67616d0000b273e175a19e530c898d167d39bf', 'width': 640}, {'height': 300, 'url': 'https://i.scdn.co/image/ab67616d00001e02e175a19e530c898d167d39bf', 'width': 300}, {'height': 64, 'url': 'https://i.scdn.co/image/ab67616d00004851e175a19e530c898d167d39bf', 'width': 64}], 'is_playable': True, 'name': 'Nevermind (Remastered)', 'release_date': '1991-09-26', 'release_date_precision': 'day', 'total_tracks': 13, 'type': 'album', 'uri': 'spotify:album:2guirTSEqLizK7j9i1MTTZ'}, 'artists': [{'external_urls': {'spotify': 'https://open.spotify.com/artist/6olE6TJLqED3rqDCT0FyPh'}, 'href': 'https://api.spotify.com/v1/artists/6olE6TJLqED3rqDCT0FyPh', 'id': '6olE6TJLqED3rqDCT0FyPh', 'name': 'Nirvana', 'type': 'artist', 'uri': 'spotify:artist:6olE6TJLqED3rqDCT0FyPh'}], 'disc_number': 1, 'duration_ms': 218920, 'explicit': False, 'external_ids': {'isrc': 'USGF19942503'}, 'external_urls': {'spotify': 'https://open.spotify.com/track/4P5KoWXOxwuobLmHXLMobV'}, 'href': 'https://api.spotify.com/v1/tracks/4P5KoWXOxwuobLmHXLMobV', 'id': '4P5KoWXOxwuobLmHXLMobV', 'is_local': False, 'is_playable': True, 'name': 'Come As You Are', 'popularity': 80, 'preview_url': None, 'track_number': 3, 'type': 'track', 'uri': 'spotify:track:4P5KoWXOxwuobLmHXLMobV'}, {'album': {'album_type': 'album', 'artists': [{'external_urls': {'spotify': 'https://open.spotify.com/artist/6olE6TJLqED3rqDCT0FyPh'}, 'href': 'https://api.spotify.com/v1/artists/6olE6TJLqED3rqDCT0FyPh', 'id': '6olE6TJLqED3rqDCT0FyPh', 'name': 'Nirvana', 'type': 'artist', 'uri': 'spotify:artist:6olE6TJLqED3rqDCT0FyPh'}], 'external_urls': {'spotify': 'https://open.spotify.com/album/6ohX7moZZnF1FwYrli1OJ6'}, 'href': 'https://api.spotify.com/v1/albums/6ohX7moZZnF1FwYrli1OJ6', 'id': '6ohX7moZZnF1FwYrli1OJ6', 'images': [{'height': 640, 'url': 'https://i.scdn.co/image/ab67616d0000b273aca059cebc1841277db22d1c', 'width': 640}, {'height': 300, 'url': 'https://i.scdn.co/image/ab67616d00001e02aca059cebc1841277db22d1c', 'width': 300}, {'height': 64, 'url': 'https://i.scdn.co/image/ab67616d00004851aca059cebc1841277db22d1c', 'width': 64}], 'is_playable': True, 'name': 'In Utero - 20th Anniversary - Deluxe Edition', 'release_date': '1993-09-21', 'release_date_precision': 'day', 'total_tracks': 43, 'type': 'album', 'uri': 'spotify:album:6ohX7moZZnF1FwYrli1OJ6'}, 'artists': [{'external_urls': {'spotify': 'https://open.spotify.com/artist/6olE6TJLqED3rqDCT0FyPh'}, 'href': 'https://api.spotify.com/v1/artists/6olE6TJLqED3rqDCT0FyPh', 'id': '6olE6TJLqED3rqDCT0FyPh', 'name': 'Nirvana', 'type': 'artist', 'uri': 'spotify:artist:6olE6TJLqED3rqDCT0FyPh'}], 'disc_number': 1, 'duration_ms': 281160, 'explicit': False, 'external_ids': {'isrc': 'USGF19960703'}, 'external_urls': {'spotify': 'https://open.spotify.com/track/11LmqTE2naFULdEP94AUBa'}, 'href': 'https://api.spotify.com/v1/tracks/11LmqTE2naFULdEP94AUBa', 'id': '11LmqTE2naFULdEP94AUBa', 'is_local': False, 'is_playable': True, 'name': 'Heart-Shaped Box', 'popularity': 82, 'preview_url': None, 'track_number': 3, 'type': 'track', 'uri': 'spotify:track:11LmqTE2naFULdEP94AUBa'}, {'album': {'album_type': 'album', 'artists': [{'external_urls': {'spotify': 'https://open.spotify.com/artist/6olE6TJLqED3rqDCT0FyPh'}, 'href': 'https://api.spotify.com/v1/artists/6olE6TJLqED3rqDCT0FyPh', 'id': '6olE6TJLqED3rqDCT0FyPh', 'name': 'Nirvana', 'type': 'artist', 'uri': 'spotify:artist:6olE6TJLqED3rqDCT0FyPh'}], 'external_urls': {'spotify': 'https://open.spotify.com/album/2guirTSEqLizK7j9i1MTTZ'}, 'href': 'https://api.spotify.com/v1/albums/2guirTSEqLizK7j9i1MTTZ', 'id': '2guirTSEqLizK7j9i1MTTZ', 'images': [{'height': 640, 'url': 'https://i.scdn.co/image/ab67616d0000b273e175a19e530c898d167d39bf', 'width': 640}, {'height': 300, 'url': 'https://i.scdn.co/image/ab67616d00001e02e175a19e530c898d167d39bf', 'width': 300}, {'height': 64, 'url': 'https://i.scdn.co/image/ab67616d00004851e175a19e530c898d167d39bf', 'width': 64}], 'is_playable': True, 'name': 'Nevermind (Remastered)', 'release_date': '1991-09-26', 'release_date_precision': 'day', 'total_tracks': 13, 'type': 'album', 'uri': 'spotify:album:2guirTSEqLizK7j9i1MTTZ'}, 'artists': [{'external_urls': {'spotify': 'https://open.spotify.com/artist/6olE6TJLqED3rqDCT0FyPh'}, 'href': 'https://api.spotify.com/v1/artists/6olE6TJLqED3rqDCT0FyPh', 'id': '6olE6TJLqED3rqDCT0FyPh', 'name': 'Nirvana', 'type': 'artist', 'uri': 'spotify:artist:6olE6TJLqED3rqDCT0FyPh'}], 'disc_number': 1, 'duration_ms': 232146, 'explicit': False, 'external_ids': {'isrc': 'USGF19942512'}, 'external_urls': {'spotify': 'https://open.spotify.com/track/1nFtiJxYdhtFfFtfXBv06s'}, 'href': 'https://api.spotify.com/v1/tracks/1nFtiJxYdhtFfFtfXBv06s', 'id': '1nFtiJxYdhtFfFtfXBv06s', 'is_local': False, 'is_playable': True, 'name': 'Something In The Way', 'popularity': 74, 'preview_url': None, 'track_number': 12, 'type': 'track', 'uri': 'spotify:track:1nFtiJxYdhtFfFtfXBv06s'}, {'album': {'album_type': 'album', 'artists': [{'external_urls': {'spotify': 'https://open.spotify.com/artist/6olE6TJLqED3rqDCT0FyPh'}, 'href': 'https://api.spotify.com/v1/artists/6olE6TJLqED3rqDCT0FyPh', 'id': '6olE6TJLqED3rqDCT0FyPh', 'name': 'Nirvana', 'type': 'artist', 'uri': 'spotify:artist:6olE6TJLqED3rqDCT0FyPh'}], 'external_urls': {'spotify': 'https://open.spotify.com/album/2guirTSEqLizK7j9i1MTTZ'}, 'href': 'https://api.spotify.com/v1/albums/2guirTSEqLizK7j9i1MTTZ', 'id': '2guirTSEqLizK7j9i1MTTZ', 'images': [{'height': 640, 'url': 'https://i.scdn.co/image/ab67616d0000b273e175a19e530c898d167d39bf', 'width': 640}, {'height': 300, 'url': 'https://i.scdn.co/image/ab67616d00001e02e175a19e530c898d167d39bf', 'width': 300}, {'height': 64, 'url': 'https://i.scdn.co/image/ab67616d00004851e175a19e530c898d167d39bf', 'width': 64}], 'is_playable': True, 'name': 'Nevermind (Remastered)', 'release_date': '1991-09-26', 'release_date_precision': 'day', 'total_tracks': 13, 'type': 'album', 'uri': 'spotify:album:2guirTSEqLizK7j9i1MTTZ'}, 'artists': [{'external_urls': {'spotify': 'https://open.spotify.com/artist/6olE6TJLqED3rqDCT0FyPh'}, 'href': 'https://api.spotify.com/v1/artists/6olE6TJLqED3rqDCT0FyPh', 'id': '6olE6TJLqED3rqDCT0FyPh', 'name': 'Nirvana', 'type': 'artist', 'uri': 'spotify:artist:6olE6TJLqED3rqDCT0FyPh'}], 'disc_number': 1, 'duration_ms': 257053, 'explicit': False, 'external_ids': {'isrc': 'USGF19942505'}, 'external_urls': {'spotify': 'https://open.spotify.com/track/2YodwKJnbPyNKe8XXSE9V7'}, 'href': 'https://api.spotify.com/v1/tracks/2YodwKJnbPyNKe8XXSE9V7', 'id': '2YodwKJnbPyNKe8XXSE9V7', 'is_local': False, 'is_playable': True, 'name': 'Lithium', 'popularity': 74, 'preview_url': None, 'track_number': 5, 'type': 'track', 'uri': 'spotify:track:2YodwKJnbPyNKe8XXSE9V7'}, {'album': {'album_type': 'compilation', 'artists': [{'external_urls': {'spotify': 'https://open.spotify.com/artist/6olE6TJLqED3rqDCT0FyPh'}, 'href': 'https://api.spotify.com/v1/artists/6olE6TJLqED3rqDCT0FyPh', 'id': '6olE6TJLqED3rqDCT0FyPh', 'name': 'Nirvana', 'type': 'artist', 'uri': 'spotify:artist:6olE6TJLqED3rqDCT0FyPh'}], 'external_urls': {'spotify': 'https://open.spotify.com/album/5zBPRXCAc801vyHWoRurNZ'}, 'href': 'https://api.spotify.com/v1/albums/5zBPRXCAc801vyHWoRurNZ', 'id': '5zBPRXCAc801vyHWoRurNZ', 'images': [{'height': 640, 'url': 'https://i.scdn.co/image/ab67616d0000b27356072fea6785a3ad2d24237c', 'width': 640}, {'height': 300, 'url': 'https://i.scdn.co/image/ab67616d00001e0256072fea6785a3ad2d24237c', 'width': 300}, {'height': 64, 'url': 'https://i.scdn.co/image/ab67616d0000485156072fea6785a3ad2d24237c', 'width': 64}], 'is_playable': True, 'name': 'Nirvana', 'release_date': '2002-10-29', 'release_date_precision': 'day', 'total_tracks': 14, 'type': 'album', 'uri': 'spotify:album:5zBPRXCAc801vyHWoRurNZ'}, 'artists': [{'external_urls': {'spotify': 'https://open.spotify.com/artist/6olE6TJLqED3rqDCT0FyPh'}, 'href': 'https://api.spotify.com/v1/artists/6olE6TJLqED3rqDCT0FyPh', 'id': '6olE6TJLqED3rqDCT0FyPh', 'name': 'Nirvana', 'type': 'artist', 'uri': 'spotify:artist:6olE6TJLqED3rqDCT0FyPh'}], 'disc_number': 1, 'duration_ms': 166640, 'explicit': False, 'external_ids': {'isrc': 'USUG10200084'}, 'external_urls': {'spotify': 'https://open.spotify.com/track/55yvzYuvJYG2RUEnMK78tr'}, 'href': 'https://api.spotify.com/v1/tracks/55yvzYuvJYG2RUEnMK78tr', 'id': '55yvzYuvJYG2RUEnMK78tr', 'is_local': False, 'is_playable': True, 'name': 'About A Girl', 'popularity': 79, 'preview_url': None, 'track_number': 2, 'type': 'track', 'uri': 'spotify:track:55yvzYuvJYG2RUEnMK78tr'}, {'album': {'album_type': 'album', 'artists': [{'external_urls': {'spotify': 'https://open.spotify.com/artist/6olE6TJLqED3rqDCT0FyPh'}, 'href': 'https://api.spotify.com/v1/artists/6olE6TJLqED3rqDCT0FyPh', 'id': '6olE6TJLqED3rqDCT0FyPh', 'name': 'Nirvana', 'type': 'artist', 'uri': 'spotify:artist:6olE6TJLqED3rqDCT0FyPh'}], 'external_urls': {'spotify': 'https://open.spotify.com/album/1To7kv722A8SpZF789MZy7'}, 'href': 'https://api.spotify.com/v1/albums/1To7kv722A8SpZF789MZy7', 'id': '1To7kv722A8SpZF789MZy7', 'images': [{'height': 640, 'url': 'https://i.scdn.co/image/ab67616d0000b27336c5417732e53e23cb219246', 'width': 640}, {'height': 300, 'url': 'https://i.scdn.co/image/ab67616d00001e0236c5417732e53e23cb219246', 'width': 300}, {'height': 64, 'url': 'https://i.scdn.co/image/ab67616d0000485136c5417732e53e23cb219246', 'width': 64}], 'is_playable': True, 'name': 'MTV Unplugged In New York', 'release_date': '1994-11-01', 'release_date_precision': 'day', 'total_tracks': 14, 'type': 'album', 'uri': 'spotify:album:1To7kv722A8SpZF789MZy7'}, 'artists': [{'external_urls': {'spotify': 'https://open.spotify.com/artist/6olE6TJLqED3rqDCT0FyPh'}, 'href': 'https://api.spotify.com/v1/artists/6olE6TJLqED3rqDCT0FyPh', 'id': '6olE6TJLqED3rqDCT0FyPh', 'name': 'Nirvana', 'type': 'artist', 'uri': 'spotify:artist:6olE6TJLqED3rqDCT0FyPh'}], 'disc_number': 1, 'duration_ms': 261093, 'explicit': False, 'external_ids': {'isrc': 'USGF19972704'}, 'external_urls': {'spotify': 'https://open.spotify.com/track/15VRO9CQwMpbqUYA7e6Hwg'}, 'href': 'https://api.spotify.com/v1/tracks/15VRO9CQwMpbqUYA7e6Hwg', 'id': '15VRO9CQwMpbqUYA7e6Hwg', 'is_local': False, 'is_playable': True, 'name': 'The Man Who Sold The World', 'popularity': 79, 'preview_url': None, 'track_number': 4, 'type': 'track', 'uri': 'spotify:track:15VRO9CQwMpbqUYA7e6Hwg'}, {'album': {'album_type': 'album', 'artists': [{'external_urls': {'spotify': 'https://open.spotify.com/artist/6olE6TJLqED3rqDCT0FyPh'}, 'href': 'https://api.spotify.com/v1/artists/6olE6TJLqED3rqDCT0FyPh', 'id': '6olE6TJLqED3rqDCT0FyPh', 'name': 'Nirvana', 'type': 'artist', 'uri': 'spotify:artist:6olE6TJLqED3rqDCT0FyPh'}], 'external_urls': {'spotify': 'https://open.spotify.com/album/7wOOA7l306K8HfBKfPoafr'}, 'href': 'https://api.spotify.com/v1/albums/7wOOA7l306K8HfBKfPoafr', 'id': '7wOOA7l306K8HfBKfPoafr', 'images': [{'height': 640, 'url': 'https://i.scdn.co/image/ab67616d0000b273c4f52ef8782f0e8ede4c1aaf', 'width': 640}, {'height': 300, 'url': 'https://i.scdn.co/image/ab67616d00001e02c4f52ef8782f0e8ede4c1aaf', 'width': 300}, {'height': 64, 'url': 'https://i.scdn.co/image/ab67616d00004851c4f52ef8782f0e8ede4c1aaf', 'width': 64}], 'is_playable': True, 'name': 'In Utero - 20th Anniversary Remaster', 'release_date': '1993-09-21', 'release_date_precision': 'day', 'total_tracks': 12, 'type': 'album', 'uri': 'spotify:album:7wOOA7l306K8HfBKfPoafr'}, 'artists': [{'external_urls': {'spotify': 'https://open.spotify.com/artist/6olE6TJLqED3rqDCT0FyPh'}, 'href': 'https://api.spotify.com/v1/artists/6olE6TJLqED3rqDCT0FyPh', 'id': '6olE6TJLqED3rqDCT0FyPh', 'name': 'Nirvana', 'type': 'artist', 'uri': 'spotify:artist:6olE6TJLqED3rqDCT0FyPh'}], 'disc_number': 1, 'duration_ms': 151893, 'explicit': False, 'external_ids': {'isrc': 'USGF19960706'}, 'external_urls': {'spotify': 'https://open.spotify.com/track/5gRcv46AMTrosmTOqrOV3Q'}, 'href': 'https://api.spotify.com/v1/tracks/5gRcv46AMTrosmTOqrOV3Q', 'id': '5gRcv46AMTrosmTOqrOV3Q', 'is_local': False, 'is_playable': True, 'name': 'Dumb', 'popularity': 78, 'preview_url': None, 'track_number': 6, 'type': 'track', 'uri': 'spotify:track:5gRcv46AMTrosmTOqrOV3Q'}, {'album': {'album_type': 'album', 'artists': [{'external_urls': {'spotify': 'https://open.spotify.com/artist/6olE6TJLqED3rqDCT0FyPh'}, 'href': 'https://api.spotify.com/v1/artists/6olE6TJLqED3rqDCT0FyPh', 'id': '6olE6TJLqED3rqDCT0FyPh', 'name': 'Nirvana', 'type': 'artist', 'uri': 'spotify:artist:6olE6TJLqED3rqDCT0FyPh'}], 'external_urls': {'spotify': 'https://open.spotify.com/album/2guirTSEqLizK7j9i1MTTZ'}, 'href': 'https://api.spotify.com/v1/albums/2guirTSEqLizK7j9i1MTTZ', 'id': '2guirTSEqLizK7j9i1MTTZ', 'images': [{'height': 640, 'url': 'https://i.scdn.co/image/ab67616d0000b273e175a19e530c898d167d39bf', 'width': 640}, {'height': 300, 'url': 'https://i.scdn.co/image/ab67616d00001e02e175a19e530c898d167d39bf', 'width': 300}, {'height': 64, 'url': 'https://i.scdn.co/image/ab67616d00004851e175a19e530c898d167d39bf', 'width': 64}], 'is_playable': True, 'name': 'Nevermind (Remastered)', 'release_date': '1991-09-26', 'release_date_precision': 'day', 'total_tracks': 13, 'type': 'album', 'uri': 'spotify:album:2guirTSEqLizK7j9i1MTTZ'}, 'artists': [{'external_urls': {'spotify': 'https://open.spotify.com/artist/6olE6TJLqED3rqDCT0FyPh'}, 'href': 'https://api.spotify.com/v1/artists/6olE6TJLqED3rqDCT0FyPh', 'id': '6olE6TJLqED3rqDCT0FyPh', 'name': 'Nirvana', 'type': 'artist', 'uri': 'spotify:artist:6olE6TJLqED3rqDCT0FyPh'}], 'disc_number': 1, 'duration_ms': 255080, 'explicit': False, 'external_ids': {'isrc': 'USGF19942502'}, 'external_urls': {'spotify': 'https://open.spotify.com/track/30HCB1FoE77IfGRyNv4eFq'}, 'href': 'https://api.spotify.com/v1/tracks/30HCB1FoE77IfGRyNv4eFq', 'id': '30HCB1FoE77IfGRyNv4eFq', 'is_local': False, 'is_playable': True, 'name': 'In Bloom', 'popularity': 72, 'preview_url': None, 'track_number': 2, 'type': 'track', 'uri': 'spotify:track:30HCB1FoE77IfGRyNv4eFq'}, {'album': {'album_type': 'album', 'artists': [{'external_urls': {'spotify': 'https://open.spotify.com/artist/6olE6TJLqED3rqDCT0FyPh'}, 'href': 'https://api.spotify.com/v1/artists/6olE6TJLqED3rqDCT0FyPh', 'id': '6olE6TJLqED3rqDCT0FyPh', 'name': 'Nirvana', 'type': 'artist', 'uri': 'spotify:artist:6olE6TJLqED3rqDCT0FyPh'}], 'external_urls': {'spotify': 'https://open.spotify.com/album/7wOOA7l306K8HfBKfPoafr'}, 'href': 'https://api.spotify.com/v1/albums/7wOOA7l306K8HfBKfPoafr', 'id': '7wOOA7l306K8HfBKfPoafr', 'images': [{'height': 640, 'url': 'https://i.scdn.co/image/ab67616d0000b273c4f52ef8782f0e8ede4c1aaf', 'width': 640}, {'height': 300, 'url': 'https://i.scdn.co/image/ab67616d00001e02c4f52ef8782f0e8ede4c1aaf', 'width': 300}, {'height': 64, 'url': 'https://i.scdn.co/image/ab67616d00004851c4f52ef8782f0e8ede4c1aaf', 'width': 64}], 'is_playable': True, 'name': 'In Utero - 20th Anniversary Remaster', 'release_date': '1993-09-21', 'release_date_precision': 'day', 'total_tracks': 12, 'type': 'album', 'uri': 'spotify:album:7wOOA7l306K8HfBKfPoafr'}, 'artists': [{'external_urls': {'spotify': 'https://open.spotify.com/artist/6olE6TJLqED3rqDCT0FyPh'}, 'href': 'https://api.spotify.com/v1/artists/6olE6TJLqED3rqDCT0FyPh', 'id': '6olE6TJLqED3rqDCT0FyPh', 'name': 'Nirvana', 'type': 'artist', 'uri': 'spotify:artist:6olE6TJLqED3rqDCT0FyPh'}], 'disc_number': 1, 'duration_ms': 233173, 'explicit': False, 'external_ids': {'isrc': 'USGF19960712'}, 'external_urls': {'spotify': 'https://open.spotify.com/track/1Ic9pKxGSJGM0LKeqf6lGe'}, 'href': 'https://api.spotify.com/v1/tracks/1Ic9pKxGSJGM0LKeqf6lGe', 'id': '1Ic9pKxGSJGM0LKeqf6lGe', 'is_local': False, 'is_playable': True, 'name': 'All Apologies', 'popularity': 76, 'preview_url': None, 'track_number': 12, 'type': 'track', 'uri': 'spotify:track:1Ic9pKxGSJGM0LKeqf6lGe'}]\n"
     ]
    }
   ],
   "source": [
    "from dotenv import load_dotenv\n",
    "import os\n",
    "import base64\n",
    "import json\n",
    "from requests import post, get\n",
    "\n",
    "\n",
    "load_dotenv()\n",
    "\n",
    "client_id = os.getenv(\"CLIENT_ID\")\n",
    "client_secret = os.getenv(\"CLIENT_SECRET\")\n",
    "\n",
    "def get_token():\n",
    "    auth_string = client_id + \":\" + client_secret \n",
    "    auth_bytes = auth_string.encode(\"utf-8\")\n",
    "    auth_base64 = str(base64.b64encode(auth_bytes), \"utf-8\")\n",
    "\n",
    "    url = \"https://accounts.spotify.com/api/token\"\n",
    "    headers = {\n",
    "            \"Authorization\": \"Basic \" + auth_base64,\n",
    "            \"Content-type\" : \"application/x-www-form-urlencoded\"\n",
    "    }\n",
    "    data = {\"grant_type\": \"client_credentials\"}\n",
    "    result = post(url, headers=headers, data=data)\n",
    "    json_result = json.loads(result.content)\n",
    "    token = json_result[\"access_token\"]\n",
    "    return token \n",
    "\n",
    "def get_auth_header(token):\n",
    "    return {\"Authorization\": \"Bearer \" + token}\n",
    "\n",
    "\n",
    "def search_for_artist(token, artist_name):\n",
    "    url = \"https://api.spotify.com/v1/search\"\n",
    "    headers = get_auth_header(token)\n",
    "    query = f\"?q={artist_name}&type=artist&limit=1\"\n",
    "\n",
    "    query_url = url + query \n",
    "    result = get(query_url, headers=headers)\n",
    "    json_result = json.loads(result.content)[\"artists\"][\"items\"]\n",
    "    if len(json_result) == 0:\n",
    "        print(\"No artist with this name exists\")\n",
    "        return None \n",
    "    \n",
    "    return json_result[0]\n",
    "\n",
    "def get_songs_by_artist(token, artist_id):\n",
    "    url = f\"https://api.spotify.com/v1/artists/{artist_id}/top-tracks?country=US\"\n",
    "    headers = get_auth_header(token)\n",
    "    result = get(url, headers=headers)\n",
    "    json_result = json.loads(result.content)[\"tracks\"]\n",
    "    return json_result\n",
    "\n",
    "\n",
    "token = get_token()\n",
    "result = search_for_artist(token,\"Nirvana\")\n",
    "artist_id = result[\"id\"]\n",
    "songs = get_songs_by_artist(token, artist_id)\n",
    "print(songs)\n",
    "\n"
   ]
  },
  {
   "cell_type": "code",
   "execution_count": 12,
   "metadata": {},
   "outputs": [
    {
     "name": "stdout",
     "output_type": "stream",
     "text": [
      "1. Smells Like Teen Spirit\n",
      "2. Come As You Are\n",
      "3. Heart-Shaped Box\n",
      "4. Something In The Way\n",
      "5. Lithium\n",
      "6. About A Girl\n",
      "7. The Man Who Sold The World\n",
      "8. Dumb\n",
      "9. In Bloom\n",
      "10. All Apologies\n"
     ]
    }
   ],
   "source": [
    "\n",
    "\n"
   ]
  }
 ],
 "metadata": {
  "kernelspec": {
   "display_name": "Python 3",
   "language": "python",
   "name": "python3"
  },
  "language_info": {
   "codemirror_mode": {
    "name": "ipython",
    "version": 3
   },
   "file_extension": ".py",
   "mimetype": "text/x-python",
   "name": "python",
   "nbconvert_exporter": "python",
   "pygments_lexer": "ipython3",
   "version": "3.10.2"
  },
  "orig_nbformat": 4
 },
 "nbformat": 4,
 "nbformat_minor": 2
}
